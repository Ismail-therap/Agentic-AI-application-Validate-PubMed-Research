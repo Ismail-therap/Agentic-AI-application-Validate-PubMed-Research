{
  "nbformat": 4,
  "nbformat_minor": 0,
  "metadata": {
    "colab": {
      "provenance": [],
      "authorship_tag": "ABX9TyOJlbReY0+WuA7xGVmbORyG",
      "include_colab_link": true
    },
    "kernelspec": {
      "name": "python3",
      "display_name": "Python 3"
    },
    "language_info": {
      "name": "python"
    }
  },
  "cells": [
    {
      "cell_type": "markdown",
      "metadata": {
        "id": "view-in-github",
        "colab_type": "text"
      },
      "source": [
        "<a href=\"https://colab.research.google.com/github/Ismail-therap/Agentic-AI-application-Validate-PubMed-Research/blob/main/Agentic_AI_application_in_Medical_Field_research.ipynb\" target=\"_parent\"><img src=\"https://colab.research.google.com/assets/colab-badge.svg\" alt=\"Open In Colab\"/></a>"
      ]
    },
    {
      "cell_type": "markdown",
      "source": [
        "# Project title:\n",
        "\n",
        "Agentic LLM generates hypotheses on how air pollutants or diet may influence depression, and validates them using NHANES data."
      ],
      "metadata": {
        "id": "uys3tPYqM6Wz"
      }
    },
    {
      "cell_type": "markdown",
      "source": [
        "# PubMed Central (PMC) Open Access Subset : To generate the hypothesis"
      ],
      "metadata": {
        "id": "YuNumIIdNSVO"
      }
    },
    {
      "cell_type": "code",
      "execution_count": 2,
      "metadata": {
        "colab": {
          "base_uri": "https://localhost:8080/"
        },
        "id": "IB8gl_JBH2HG",
        "outputId": "080d6f60-e182-4de7-f740-78dee25154f7"
      },
      "outputs": [
        {
          "output_type": "stream",
          "name": "stdout",
          "text": [
            "Collecting biopython\n",
            "  Downloading biopython-1.85-cp311-cp311-manylinux_2_17_x86_64.manylinux2014_x86_64.whl.metadata (13 kB)\n",
            "Requirement already satisfied: numpy in /usr/local/lib/python3.11/dist-packages (from biopython) (2.0.2)\n",
            "Downloading biopython-1.85-cp311-cp311-manylinux_2_17_x86_64.manylinux2014_x86_64.whl (3.3 MB)\n",
            "\u001b[2K   \u001b[90m━━━━━━━━━━━━━━━━━━━━━━━━━━━━━━━━━━━━━━━━\u001b[0m \u001b[32m3.3/3.3 MB\u001b[0m \u001b[31m19.6 MB/s\u001b[0m eta \u001b[36m0:00:00\u001b[0m\n",
            "\u001b[?25hInstalling collected packages: biopython\n",
            "Successfully installed biopython-1.85\n"
          ]
        }
      ],
      "source": [
        "!pip install biopython\n",
        "\n",
        "from Bio import Entrez\n",
        "import pandas as pd\n",
        "import time\n",
        "\n",
        "# Step 1: Set your email (required by NCBI)\n",
        "Entrez.email = \"statistician71@gmail.com\""
      ]
    },
    {
      "cell_type": "code",
      "source": [
        "# Step 2: Define search parameters\n",
        "def search_pubmed(query, max_results=10):\n",
        "    handle = Entrez.esearch(db=\"pubmed\", term=query, retmax=max_results)\n",
        "    record = Entrez.read(handle)\n",
        "    return record[\"IdList\"]"
      ],
      "metadata": {
        "id": "nwYAuItVIMTP"
      },
      "execution_count": 3,
      "outputs": []
    },
    {
      "cell_type": "code",
      "source": [
        "# Step 3: Fetch article metadata\n",
        "def fetch_details(id_list):\n",
        "    ids = \",\".join(id_list)\n",
        "    handle = Entrez.efetch(db=\"pubmed\", id=ids, rettype=\"medline\", retmode=\"xml\")\n",
        "    records = Entrez.read(handle)\n",
        "\n",
        "    paper_data = []\n",
        "    for article in records['PubmedArticle']:\n",
        "        try:\n",
        "            title = article['MedlineCitation']['Article']['ArticleTitle']\n",
        "            abstract = article['MedlineCitation']['Article']['Abstract']['AbstractText'][0]\n",
        "            journal = article['MedlineCitation']['Article']['Journal']['Title']\n",
        "            year = article['MedlineCitation']['Article']['Journal']['JournalIssue']['PubDate'].get('Year', 'N/A')\n",
        "        except:\n",
        "            continue\n",
        "\n",
        "        paper_data.append({\n",
        "            \"Title\": title,\n",
        "            \"Abstract\": abstract,\n",
        "            \"Journal\": journal,\n",
        "            \"Year\": year\n",
        "        })\n",
        "\n",
        "    return pd.DataFrame(paper_data)"
      ],
      "metadata": {
        "id": "Q44NuU58IOBJ"
      },
      "execution_count": 4,
      "outputs": []
    },
    {
      "cell_type": "code",
      "source": [
        "# Step 4: Run pipeline\n",
        "def get_pubmed_papers(query=\"depression AND environmental exposure\", max_results=20):\n",
        "    ids = search_pubmed(query, max_results)\n",
        "    time.sleep(1)  # to respect NCBI API rate limits\n",
        "    return fetch_details(ids)"
      ],
      "metadata": {
        "id": "Kg1dkeZLIS-u"
      },
      "execution_count": 5,
      "outputs": []
    },
    {
      "cell_type": "code",
      "source": [
        "\n",
        "# Example run\n",
        "df = get_pubmed_papers(query=\"depression AND PM2.5\", max_results=1000)\n",
        "print(df.head())"
      ],
      "metadata": {
        "colab": {
          "base_uri": "https://localhost:8080/"
        },
        "id": "dH7upJ5SIU91",
        "outputId": "a0ff59f9-0373-4cc6-ee19-f0e40405ffd7"
      },
      "execution_count": 8,
      "outputs": [
        {
          "output_type": "stream",
          "name": "stdout",
          "text": [
            "                                               Title  \\\n",
            "0  Depressed nestling growth during exposure to s...   \n",
            "1  Frailty mediated the associations of fine part...   \n",
            "2  PM2.5 Exposure Triggers Hypothalamic Oxidative...   \n",
            "3  Research Progress on the Correlation Between A...   \n",
            "4  Ecological analysis of air particulate matter ...   \n",
            "\n",
            "                                            Abstract  \\\n",
            "0  Human and animal populations increasingly enco...   \n",
            "1  The role of frailty in the associations of fin...   \n",
            "2  Epidemiological studies have linked fine dust ...   \n",
            "3  Autism spectrum disorder (ASD) is a neurodevel...   \n",
            "4  Adolescent depression is a health issue influe...   \n",
            "\n",
            "                                             Journal  Year  \n",
            "0                                 Scientific reports  2025  \n",
            "1  The journals of gerontology. Series A, Biologi...  2025  \n",
            "2        International journal of molecular sciences  2024  \n",
            "3                Journal of applied toxicology : JAT  2024  \n",
            "4                    Journal of psychiatric research  2025  \n"
          ]
        }
      ]
    },
    {
      "cell_type": "markdown",
      "source": [
        "## To do:\n",
        "\n",
        "Use a LLM model to generate hypotheses on how air pollutants or diet may influence depression."
      ],
      "metadata": {
        "id": "Mj1AxCMZNiYa"
      }
    },
    {
      "cell_type": "code",
      "source": [],
      "metadata": {
        "colab": {
          "base_uri": "https://localhost:8080/"
        },
        "id": "0BT2FFavIZZy",
        "outputId": "ca969143-2daa-44c7-807c-a4141329012c"
      },
      "execution_count": 9,
      "outputs": [
        {
          "output_type": "execute_result",
          "data": {
            "text/plain": [
              "(97, 4)"
            ]
          },
          "metadata": {},
          "execution_count": 9
        }
      ]
    },
    {
      "cell_type": "markdown",
      "source": [
        "# Validate the hypothesis using NHANES Data"
      ],
      "metadata": {
        "id": "7HwhZAknK6rY"
      }
    },
    {
      "cell_type": "code",
      "source": [
        "!pip install pyreadstat"
      ],
      "metadata": {
        "colab": {
          "base_uri": "https://localhost:8080/"
        },
        "id": "2MgioVm_KwP4",
        "outputId": "6053ba68-d67d-416c-d1ec-dd7eec395d0d"
      },
      "execution_count": 12,
      "outputs": [
        {
          "output_type": "stream",
          "name": "stdout",
          "text": [
            "Collecting pyreadstat\n",
            "  Downloading pyreadstat-1.2.8-cp311-cp311-manylinux_2_17_x86_64.manylinux2014_x86_64.whl.metadata (1.0 kB)\n",
            "Requirement already satisfied: pandas>=1.2.0 in /usr/local/lib/python3.11/dist-packages (from pyreadstat) (2.2.2)\n",
            "Requirement already satisfied: numpy>=1.23.2 in /usr/local/lib/python3.11/dist-packages (from pandas>=1.2.0->pyreadstat) (2.0.2)\n",
            "Requirement already satisfied: python-dateutil>=2.8.2 in /usr/local/lib/python3.11/dist-packages (from pandas>=1.2.0->pyreadstat) (2.8.2)\n",
            "Requirement already satisfied: pytz>=2020.1 in /usr/local/lib/python3.11/dist-packages (from pandas>=1.2.0->pyreadstat) (2025.1)\n",
            "Requirement already satisfied: tzdata>=2022.7 in /usr/local/lib/python3.11/dist-packages (from pandas>=1.2.0->pyreadstat) (2025.1)\n",
            "Requirement already satisfied: six>=1.5 in /usr/local/lib/python3.11/dist-packages (from python-dateutil>=2.8.2->pandas>=1.2.0->pyreadstat) (1.17.0)\n",
            "Downloading pyreadstat-1.2.8-cp311-cp311-manylinux_2_17_x86_64.manylinux2014_x86_64.whl (2.9 MB)\n",
            "\u001b[2K   \u001b[90m━━━━━━━━━━━━━━━━━━━━━━━━━━━━━━━━━━━━━━━━\u001b[0m \u001b[32m2.9/2.9 MB\u001b[0m \u001b[31m30.5 MB/s\u001b[0m eta \u001b[36m0:00:00\u001b[0m\n",
            "\u001b[?25hInstalling collected packages: pyreadstat\n",
            "Successfully installed pyreadstat-1.2.8\n"
          ]
        }
      ]
    },
    {
      "source": [
        "import pandas as pd\n",
        "import pyreadstat  # or use pandas' read_sas\n",
        "\n",
        "# File paths (after downloading)\n",
        "demo_file = \"DEMO_L.xpt\"  # demographics\n",
        "#dpq_file = \"DPQ_J.XPT\"    # depression screener (PHQ-9)\n",
        "\n",
        "# Load data, specifying 'latin1' encoding\n",
        "demo_df, _ = pyreadstat.read_xport(demo_file, encoding='latin1')\n",
        "#dpq_df, _ = pyreadstat.read_xport(dpq_file, encoding='latin1') # Consider using 'latin1' for this file as well\n",
        "\n",
        "# Preview\n",
        "print(demo_df.head())\n",
        "#print(dpq_df.head())"
      ],
      "cell_type": "code",
      "metadata": {
        "colab": {
          "base_uri": "https://localhost:8080/"
        },
        "id": "D8bkfsNYMgKB",
        "outputId": "0465cbdb-4781-42a8-cf95-e7dd1cf917d2"
      },
      "execution_count": 14,
      "outputs": [
        {
          "output_type": "stream",
          "name": "stdout",
          "text": [
            "       SEQN  SDDSRVYR  RIDSTATR  RIAGENDR  RIDAGEYR  RIDAGEMN  RIDRETH1  \\\n",
            "0  130378.0      12.0       2.0       1.0      43.0       NaN       5.0   \n",
            "1  130379.0      12.0       2.0       1.0      66.0       NaN       3.0   \n",
            "2  130380.0      12.0       2.0       2.0      44.0       NaN       2.0   \n",
            "3  130381.0      12.0       2.0       2.0       5.0       NaN       5.0   \n",
            "4  130382.0      12.0       2.0       1.0       2.0       NaN       3.0   \n",
            "\n",
            "   RIDRETH3  RIDEXMON  RIDEXAGM  ...  DMDHRGND  DMDHRAGZ  DMDHREDZ  DMDHRMAZ  \\\n",
            "0       6.0       2.0       NaN  ...       NaN       NaN       NaN       NaN   \n",
            "1       3.0       2.0       NaN  ...       NaN       NaN       NaN       NaN   \n",
            "2       2.0       1.0       NaN  ...       NaN       NaN       NaN       NaN   \n",
            "3       7.0       1.0      71.0  ...       2.0       2.0       2.0       3.0   \n",
            "4       3.0       2.0      34.0  ...       2.0       2.0       3.0       1.0   \n",
            "\n",
            "   DMDHSEDZ      WTINT2YR      WTMEC2YR  SDMVSTRA  SDMVPSU  INDFMPIR  \n",
            "0       NaN  50055.450807  54374.463898     173.0      2.0      5.00  \n",
            "1       NaN  29087.450605  34084.721548     173.0      2.0      5.00  \n",
            "2       NaN  80062.674301  81196.277992     174.0      1.0      1.41  \n",
            "3       NaN  38807.268902  55698.607106     182.0      2.0      1.53  \n",
            "4       2.0  30607.519774  36434.146346     182.0      2.0      3.60  \n",
            "\n",
            "[5 rows x 27 columns]\n"
          ]
        }
      ]
    },
    {
      "cell_type": "code",
      "source": [],
      "metadata": {
        "id": "OvEZi8bYKu5M"
      },
      "execution_count": null,
      "outputs": []
    }
  ]
}